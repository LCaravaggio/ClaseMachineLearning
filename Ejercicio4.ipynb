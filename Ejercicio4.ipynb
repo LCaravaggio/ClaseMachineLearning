{
  "nbformat": 4,
  "nbformat_minor": 0,
  "metadata": {
    "colab": {
      "name": "Ejercicio4.ipynb",
      "provenance": [],
      "authorship_tag": "ABX9TyO3bHwMBPu1EZzTfyzXfaqd",
      "include_colab_link": true
    },
    "kernelspec": {
      "name": "python3",
      "display_name": "Python 3"
    },
    "language_info": {
      "name": "python"
    }
  },
  "cells": [
    {
      "cell_type": "markdown",
      "metadata": {
        "id": "view-in-github",
        "colab_type": "text"
      },
      "source": [
        "<a href=\"https://colab.research.google.com/github/LCaravaggio/ClaseMachineLearning/blob/main/Ejercicio4.ipynb\" target=\"_parent\"><img src=\"https://colab.research.google.com/assets/colab-badge.svg\" alt=\"Open In Colab\"/></a>"
      ]
    },
    {
      "cell_type": "code",
      "execution_count": 10,
      "metadata": {
        "id": "guHpND66rJ7m"
      },
      "outputs": [],
      "source": [
        "import pandas as pd\n",
        "from sklearn.model_selection import train_test_split\n",
        "\n",
        "import warnings\n",
        "warnings.filterwarnings(\"ignore\")"
      ]
    },
    {
      "cell_type": "code",
      "source": [
        "who = pd.read_csv('https://raw.githubusercontent.com/LCaravaggio/ClaseMachineLearning/master/datos/who.csv')"
      ],
      "metadata": {
        "id": "Co-GpT9wrM8O"
      },
      "execution_count": 11,
      "outputs": []
    },
    {
      "cell_type": "code",
      "source": [
        "who.columns"
      ],
      "metadata": {
        "colab": {
          "base_uri": "https://localhost:8080/"
        },
        "id": "zVNrwSzJrSUb",
        "outputId": "bb9e1c4b-20da-4d06-f2fb-f9eab7a841f1"
      },
      "execution_count": 12,
      "outputs": [
        {
          "output_type": "execute_result",
          "data": {
            "text/plain": [
              "Index(['id', 'Country', 'Year', 'Status', 'Life expectancy', 'Adult Mortality',\n",
              "       'infant deaths', 'Alcohol', 'percentage expenditure', 'Hepatitis B',\n",
              "       'Measles', 'BMI', 'under-five deaths', 'Polio', 'Total expenditure',\n",
              "       'Diphtheria ', ' HIV/AIDS', 'GDP', 'Population',\n",
              "       ' thinness  1-19 years', ' thinness 5-9 years',\n",
              "       'Income composition of resources', 'Schooling'],\n",
              "      dtype='object')"
            ]
          },
          "metadata": {},
          "execution_count": 12
        }
      ]
    },
    {
      "cell_type": "code",
      "source": [
        "who=who.fillna(0)"
      ],
      "metadata": {
        "id": "r9PUdXQoGAmu"
      },
      "execution_count": 13,
      "outputs": []
    },
    {
      "cell_type": "code",
      "source": [
        "from sklearn.model_selection import train_test_split\n",
        "X=['Adult Mortality', 'infant deaths', 'BMI', 'Polio', 'Schooling']\n",
        "y=['Life expectancy']\n",
        "X_train, X_test, y_train, y_test = train_test_split(who[X], who[y], test_size=0.2)"
      ],
      "metadata": {
        "id": "naUSTa_5raYz"
      },
      "execution_count": 14,
      "outputs": []
    },
    {
      "cell_type": "code",
      "source": [
        "from sklearn.linear_model import LinearRegression\n",
        "from sklearn.tree import DecisionTreeRegressor  \n",
        "from sklearn.ensemble import RandomForestRegressor\n",
        "from sklearn.svm import SVR"
      ],
      "metadata": {
        "id": "YLihdVuWtmaI"
      },
      "execution_count": 15,
      "outputs": []
    },
    {
      "cell_type": "code",
      "source": [
        "names = [\"Regresión Lineal\",\n",
        "         \"Árbol de Regresión\", \n",
        "         \"Random Forest\",\n",
        "         \"SVR lineal\", \n",
        "         \"SVR RBF\"\n",
        "         ]\n",
        "\n",
        "regressors = [\n",
        "    LinearRegression(),\n",
        "    DecisionTreeRegressor(max_depth=3),\n",
        "    RandomForestRegressor(max_depth=3),\n",
        "    SVR(kernel=\"linear\", C=0.01),\n",
        "    SVR(kernel='poly', C=0.01)\n",
        "    ]"
      ],
      "metadata": {
        "id": "gNsv9OGJuO58"
      },
      "execution_count": 17,
      "outputs": []
    },
    {
      "cell_type": "code",
      "source": [
        "from prettytable import PrettyTable\n",
        "x = PrettyTable()\n",
        "x.field_names = ['Modelo', 'R2 Train', 'R2 Test']\n",
        "\n",
        "i=0\n",
        "for clf in regressors:\n",
        "   clf.fit(X_train, y_train)\n",
        "   score_train=clf.score(X_train, y_train)\n",
        "   score_test=clf.score(X_test, y_test)\n",
        "   x.add_row([names[i], f\"{score_train:.3%}\", f\"{score_test: .3%}\"])\n",
        "   i+=1\n",
        "\n",
        "print(x)"
      ],
      "metadata": {
        "id": "OrOU2gHjG8tB",
        "outputId": "6431db39-888f-483b-97e0-b0c39666174a",
        "colab": {
          "base_uri": "https://localhost:8080/"
        }
      },
      "execution_count": 26,
      "outputs": [
        {
          "output_type": "stream",
          "name": "stdout",
          "text": [
            "+--------------------+----------+----------+\n",
            "|       Modelo       | R2 Train | R2 Test  |\n",
            "+--------------------+----------+----------+\n",
            "|  Regresión Lineal  | 76.351%  |  72.662% |\n",
            "| Árbol de Regresión | 86.618%  |  68.539% |\n",
            "|   Random Forest    | 90.576%  |  89.447% |\n",
            "|     SVR lineal     | 71.254%  |  70.551% |\n",
            "|      SVR RBF       | 52.291%  |  65.640% |\n",
            "+--------------------+----------+----------+\n"
          ]
        }
      ]
    }
  ]
}