{
  "nbformat": 4,
  "nbformat_minor": 0,
  "metadata": {
    "colab": {
      "name": "Ejercicio4.ipynb",
      "provenance": [],
      "authorship_tag": "ABX9TyOM0XGcXX31j1ueiBANAFtX",
      "include_colab_link": true
    },
    "kernelspec": {
      "name": "python3",
      "display_name": "Python 3"
    },
    "language_info": {
      "name": "python"
    }
  },
  "cells": [
    {
      "cell_type": "markdown",
      "metadata": {
        "id": "view-in-github",
        "colab_type": "text"
      },
      "source": [
        "<a href=\"https://colab.research.google.com/github/LCaravaggio/ClaseMachineLearning/blob/main/Ejercicio4.ipynb\" target=\"_parent\"><img src=\"https://colab.research.google.com/assets/colab-badge.svg\" alt=\"Open In Colab\"/></a>"
      ]
    },
    {
      "cell_type": "code",
      "execution_count": 23,
      "metadata": {
        "id": "guHpND66rJ7m"
      },
      "outputs": [],
      "source": [
        "import pandas as pd\n",
        "from sklearn.model_selection import train_test_split\n",
        "\n",
        "import warnings\n",
        "warnings.filterwarnings(\"ignore\")"
      ]
    },
    {
      "cell_type": "code",
      "source": [
        "who = pd.read_csv('https://raw.githubusercontent.com/LCaravaggio/ClaseMachineLearning/master/Who.csv')"
      ],
      "metadata": {
        "id": "Co-GpT9wrM8O"
      },
      "execution_count": 2,
      "outputs": []
    },
    {
      "cell_type": "code",
      "source": [
        "who.columns"
      ],
      "metadata": {
        "colab": {
          "base_uri": "https://localhost:8080/"
        },
        "id": "zVNrwSzJrSUb",
        "outputId": "355d9068-7fc6-4617-8b75-79233f9dc09f"
      },
      "execution_count": 3,
      "outputs": [
        {
          "output_type": "execute_result",
          "data": {
            "text/plain": [
              "Index(['id', 'Country', 'Year', 'Status', 'Life expectancy', 'Adult Mortality',\n",
              "       'infant deaths', 'Alcohol', 'percentage expenditure', 'Hepatitis B',\n",
              "       'Measles', 'BMI', 'under-five deaths', 'Polio', 'Total expenditure',\n",
              "       'Diphtheria ', ' HIV/AIDS', 'GDP', 'Population',\n",
              "       ' thinness  1-19 years', ' thinness 5-9 years',\n",
              "       'Income composition of resources', 'Schooling'],\n",
              "      dtype='object')"
            ]
          },
          "metadata": {},
          "execution_count": 3
        }
      ]
    },
    {
      "cell_type": "code",
      "source": [
        "who=who.fillna(0)"
      ],
      "metadata": {
        "id": "r9PUdXQoGAmu"
      },
      "execution_count": 10,
      "outputs": []
    },
    {
      "cell_type": "code",
      "source": [
        "from sklearn.model_selection import train_test_split\n",
        "X=['Adult Mortality', 'infant deaths', 'BMI', 'Polio', 'Schooling']\n",
        "y=['Life expectancy']\n",
        "X_train, X_test, y_train, y_test = train_test_split(who[X], who[y], test_size=0.2)"
      ],
      "metadata": {
        "id": "naUSTa_5raYz"
      },
      "execution_count": 11,
      "outputs": []
    },
    {
      "cell_type": "code",
      "source": [
        "from sklearn.linear_model import LinearRegression\n",
        "from sklearn.tree import DecisionTreeRegressor  \n",
        "from sklearn.svm import SVR"
      ],
      "metadata": {
        "id": "YLihdVuWtmaI"
      },
      "execution_count": 6,
      "outputs": []
    },
    {
      "cell_type": "code",
      "source": [
        "names = [\"Regresión Lineal\",\n",
        "         \"Árbol de Regresión\", \n",
        "         \"SVR lineal\", \n",
        "         \"SVR RBF\"\n",
        "         ]\n",
        "\n",
        "regressors = [\n",
        "    LinearRegression(),\n",
        "    DecisionTreeRegressor(max_depth=3),\n",
        "    SVR(kernel=\"linear\", C=0.01),\n",
        "    SVR(kernel='poly', C=0.01)\n",
        "    ]"
      ],
      "metadata": {
        "id": "gNsv9OGJuO58",
        "outputId": "b08a44bd-854e-42c5-fc6f-54159ab83aea",
        "colab": {
          "base_uri": "https://localhost:8080/"
        }
      },
      "execution_count": 24,
      "outputs": [
        {
          "output_type": "stream",
          "name": "stdout",
          "text": [
            "0.7591205489301708\n",
            "0.7209207685228602\n",
            "0.8705067724670048\n",
            "0.7269269801400835\n",
            "0.7141588036118824\n",
            "0.6754848975216774\n",
            "0.515964216717899\n",
            "0.47664025327505544\n"
          ]
        }
      ]
    },
    {
      "cell_type": "code",
      "source": [
        "from prettytable import PrettyTable\n",
        "x = PrettyTable()\n",
        "x.field_names = ['Modelo', 'R2 Train', 'R2 Test']\n",
        "\n",
        "i=0\n",
        "for clf in regressors:\n",
        "   clf.fit(X_train, y_train)\n",
        "   x.add_row([names[i], clf.score(X_train, y_train), clf.score(X_test, y_test)])\n",
        "   i+=1\n",
        "\n",
        "print(x)"
      ],
      "metadata": {
        "id": "OrOU2gHjG8tB",
        "outputId": "7df2c7c9-4b8a-4e1f-92d5-b29d2d8fcde8",
        "colab": {
          "base_uri": "https://localhost:8080/"
        }
      },
      "execution_count": 28,
      "outputs": [
        {
          "output_type": "stream",
          "name": "stdout",
          "text": [
            "+--------------------+--------------------+---------------------+\n",
            "|       Modelo       |      R2 Train      |       R2 Test       |\n",
            "+--------------------+--------------------+---------------------+\n",
            "|  Regresión Lineal  | 0.7591205489301708 |  0.7209207685228602 |\n",
            "| Árbol de Regresión | 0.8705067724670048 |  0.7269269801400837 |\n",
            "|     SVR lineal     | 0.7141588036118824 |  0.6754848975216774 |\n",
            "|      SVR RBF       | 0.515964216717899  | 0.47664025327505544 |\n",
            "+--------------------+--------------------+---------------------+\n"
          ]
        }
      ]
    }
  ]
}