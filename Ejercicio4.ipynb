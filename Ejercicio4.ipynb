{
  "nbformat": 4,
  "nbformat_minor": 0,
  "metadata": {
    "colab": {
      "name": "Ejercicio4.ipynb",
      "provenance": [],
      "authorship_tag": "ABX9TyP27W6e6UGXXWi8LPWvJuox",
      "include_colab_link": true
    },
    "kernelspec": {
      "name": "python3",
      "display_name": "Python 3"
    },
    "language_info": {
      "name": "python"
    }
  },
  "cells": [
    {
      "cell_type": "markdown",
      "metadata": {
        "id": "view-in-github",
        "colab_type": "text"
      },
      "source": [
        "<a href=\"https://colab.research.google.com/github/LCaravaggio/ClaseMachineLearning/blob/main/Ejercicio4.ipynb\" target=\"_parent\"><img src=\"https://colab.research.google.com/assets/colab-badge.svg\" alt=\"Open In Colab\"/></a>"
      ]
    },
    {
      "cell_type": "code",
      "execution_count": 1,
      "metadata": {
        "id": "guHpND66rJ7m"
      },
      "outputs": [],
      "source": [
        "import pandas as pd\n",
        "from sklearn.model_selection import train_test_split\n",
        "\n",
        "import warnings\n",
        "warnings.filterwarnings(\"ignore\")"
      ]
    },
    {
      "cell_type": "code",
      "source": [
        "who = pd.read_csv('https://raw.githubusercontent.com/LCaravaggio/ClaseMachineLearning/master/datos/who.csv')"
      ],
      "metadata": {
        "id": "Co-GpT9wrM8O"
      },
      "execution_count": 2,
      "outputs": []
    },
    {
      "cell_type": "code",
      "source": [
        "who.columns"
      ],
      "metadata": {
        "colab": {
          "base_uri": "https://localhost:8080/"
        },
        "id": "zVNrwSzJrSUb",
        "outputId": "dfc93f79-73f5-415a-e726-33219fbab10d"
      },
      "execution_count": 3,
      "outputs": [
        {
          "output_type": "execute_result",
          "data": {
            "text/plain": [
              "Index(['id', 'Country', 'Year', 'Status', 'Life expectancy', 'Adult Mortality',\n",
              "       'infant deaths', 'Alcohol', 'percentage expenditure', 'Hepatitis B',\n",
              "       'Measles', 'BMI', 'under-five deaths', 'Polio', 'Total expenditure',\n",
              "       'Diphtheria ', ' HIV/AIDS', 'GDP', 'Population',\n",
              "       ' thinness  1-19 years', ' thinness 5-9 years',\n",
              "       'Income composition of resources', 'Schooling'],\n",
              "      dtype='object')"
            ]
          },
          "metadata": {},
          "execution_count": 3
        }
      ]
    },
    {
      "cell_type": "code",
      "source": [
        "who=who.fillna(0)"
      ],
      "metadata": {
        "id": "r9PUdXQoGAmu"
      },
      "execution_count": 4,
      "outputs": []
    },
    {
      "cell_type": "code",
      "source": [
        "from sklearn.model_selection import train_test_split\n",
        "X=['Adult Mortality', 'infant deaths', 'BMI', 'Polio', 'Schooling']\n",
        "y=['Life expectancy']\n",
        "X_train, X_test, y_train, y_test = train_test_split(who[X], who[y], test_size=0.2)"
      ],
      "metadata": {
        "id": "naUSTa_5raYz"
      },
      "execution_count": 5,
      "outputs": []
    },
    {
      "cell_type": "code",
      "source": [
        "from sklearn.linear_model import LinearRegression\n",
        "from sklearn.tree import DecisionTreeRegressor  \n",
        "from sklearn.ensemble import RandomForestRegressor\n",
        "from sklearn.ensemble import ExtraTreesRegressor\n",
        "from sklearn.svm import SVR"
      ],
      "metadata": {
        "id": "YLihdVuWtmaI"
      },
      "execution_count": 7,
      "outputs": []
    },
    {
      "cell_type": "code",
      "source": [
        "names = [\"Regresión Lineal\",\n",
        "         \"Árbol de Regresión\", \n",
        "         \"Random Forest\",\n",
        "         \"ExtraTreesRegressor\",\n",
        "         \"SVR lineal\", \n",
        "         \"SVR RBF\"\n",
        "         ]\n",
        "\n",
        "regressors = [\n",
        "    LinearRegression(),\n",
        "    DecisionTreeRegressor(max_depth=3),\n",
        "    RandomForestRegressor(max_depth=6),\n",
        "    ExtraTreesRegressor(),\n",
        "    SVR(kernel=\"linear\", C=0.01),\n",
        "    SVR(kernel='poly', C=0.01)\n",
        "    ]"
      ],
      "metadata": {
        "id": "gNsv9OGJuO58"
      },
      "execution_count": 20,
      "outputs": []
    },
    {
      "cell_type": "code",
      "source": [
        "from prettytable import PrettyTable\n",
        "x = PrettyTable()\n",
        "x.field_names = ['Modelo', 'R2 Train', 'R2 Test']\n",
        "\n",
        "i=0\n",
        "for clf in regressors:\n",
        "   clf.fit(X_train, y_train)\n",
        "   score_train=clf.score(X_train, y_train)\n",
        "   score_test=clf.score(X_test, y_test)\n",
        "   x.add_row([names[i], f\"{score_train:.3%}\", f\"{score_test: .3%}\"])\n",
        "   i+=1\n",
        "\n",
        "print(x)"
      ],
      "metadata": {
        "id": "OrOU2gHjG8tB",
        "outputId": "994cac7c-ca48-483f-b426-1b102528b625",
        "colab": {
          "base_uri": "https://localhost:8080/"
        }
      },
      "execution_count": 21,
      "outputs": [
        {
          "output_type": "stream",
          "name": "stdout",
          "text": [
            "+---------------------+----------+----------+\n",
            "|        Modelo       | R2 Train | R2 Test  |\n",
            "+---------------------+----------+----------+\n",
            "|   Regresión Lineal  | 80.438%  |  50.659% |\n",
            "|  Árbol de Regresión | 87.773%  |  58.159% |\n",
            "|    Random Forest    | 97.913%  |  79.381% |\n",
            "| ExtraTreesRegressor | 100.000% |  83.041% |\n",
            "|      SVR lineal     | 77.037%  |  37.814% |\n",
            "|       SVR RBF       | 57.293%  |  41.950% |\n",
            "+---------------------+----------+----------+\n"
          ]
        }
      ]
    }
  ]
}